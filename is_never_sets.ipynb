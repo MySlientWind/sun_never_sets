{
 "cells": [
  {
   "cell_type": "code",
   "execution_count": 2,
   "metadata": {},
   "outputs": [],
   "source": [
    "import functools\n",
    "from utils import getBetweenDay, format_datetime, is_sun_on_sky"
   ]
  },
  {
   "cell_type": "code",
   "execution_count": 3,
   "metadata": {},
   "outputs": [],
   "source": [
    "is_sun_on_sky_beijing = functools.partial(is_sun_on_sky,\n",
    "                                          latitude=39.9042,\n",
    "                                          longitude=116.4074,\n",
    "                                          timezone='Asia/Shanghai')\n",
    "is_sun_on_sky_paris = functools.partial(is_sun_on_sky,\n",
    "                                        latitude=48.8566,\n",
    "                                        longitude=2.3522,\n",
    "                                        timezone='Europe/Paris')\n",
    "is_sun_on_sky_san_francisco = functools.partial(is_sun_on_sky,\n",
    "                                                latitude=37.7749,\n",
    "                                                longitude=-122.4194,\n",
    "                                                timezone='America/Los_Angeles')"
   ]
  },
  {
   "cell_type": "code",
   "execution_count": 4,
   "metadata": {},
   "outputs": [],
   "source": [
    "for day in getBetweenDay(format_datetime(2024, 1, 1, 0, 0, 0),\n",
    "                         format_datetime(2026, 1, 1, 0, 0, 0)):\n",
    "\n",
    "    for h in range(0, 24):\n",
    "        utc_time = format_datetime(day.year, day.month, day.day, h, 0,\n",
    "                                   0)  # UTC time to check\n",
    "        is_sun_visible_beijing = is_sun_on_sky_beijing(utc_time=utc_time)\n",
    "        is_sun_visible_paris = is_sun_on_sky_paris(utc_time=utc_time)\n",
    "        is_sun_visible_san_francisco = is_sun_on_sky_san_francisco(\n",
    "            utc_time=utc_time)\n",
    "\n",
    "        if (not is_sun_visible_beijing) and (not is_sun_visible_paris) and (\n",
    "                not is_sun_visible_san_francisco):\n",
    "            print(utc_time)\n",
    "            print(\"日落了\")"
   ]
  }
 ],
 "metadata": {
  "kernelspec": {
   "display_name": "science",
   "language": "python",
   "name": "python3"
  },
  "language_info": {
   "codemirror_mode": {
    "name": "ipython",
    "version": 3
   },
   "file_extension": ".py",
   "mimetype": "text/x-python",
   "name": "python",
   "nbconvert_exporter": "python",
   "pygments_lexer": "ipython3",
   "version": "3.9.18"
  }
 },
 "nbformat": 4,
 "nbformat_minor": 2
}
